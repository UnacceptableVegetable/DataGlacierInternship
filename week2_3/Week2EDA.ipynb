{
 "cells": [
  {
   "cell_type": "markdown",
   "id": "5c182538",
   "metadata": {},
   "source": [
    "# Import libraries"
   ]
  },
  {
   "cell_type": "code",
   "execution_count": 87,
   "id": "27b6a2ce",
   "metadata": {},
   "outputs": [],
   "source": [
    "import pandas as pd\n",
    "import numpy as np\n",
    "import matplotlib.pyplot as plt\n",
    "import seaborn as sns\n",
    "from sklearn.linear_model import LinearRegression "
   ]
  },
  {
   "cell_type": "markdown",
   "id": "74ccfb14",
   "metadata": {},
   "source": [
    "# Import csv"
   ]
  },
  {
   "cell_type": "code",
   "execution_count": 19,
   "id": "00da334a",
   "metadata": {},
   "outputs": [],
   "source": [
    "cabdata = pd.read_csv('Cab_Data.csv')\n",
    "city = pd.read_csv('City.csv')\n",
    "customer = pd.read_csv('Customer_ID.csv')\n",
    "transaction = pd.read_csv('Transaction_ID.csv')\n",
    "usholiday= pd.read_csv('US Holiday Dates.csv')"
   ]
  },
  {
   "cell_type": "markdown",
   "id": "5134b3e7",
   "metadata": {},
   "source": [
    "# Check data types"
   ]
  },
  {
   "cell_type": "code",
   "execution_count": 7,
   "id": "350864cf",
   "metadata": {},
   "outputs": [
    {
     "name": "stdout",
     "output_type": "stream",
     "text": [
      "<class 'pandas.core.frame.DataFrame'>\n",
      "RangeIndex: 359392 entries, 0 to 359391\n",
      "Data columns (total 7 columns):\n",
      " #   Column          Non-Null Count   Dtype  \n",
      "---  ------          --------------   -----  \n",
      " 0   Transaction ID  359392 non-null  int64  \n",
      " 1   Date of Travel  359392 non-null  int64  \n",
      " 2   Company         359392 non-null  object \n",
      " 3   City            359392 non-null  object \n",
      " 4   KM Travelled    359392 non-null  float64\n",
      " 5   Price Charged   359392 non-null  float64\n",
      " 6   Cost of Trip    359392 non-null  float64\n",
      "dtypes: float64(3), int64(2), object(2)\n",
      "memory usage: 19.2+ MB\n",
      "<class 'pandas.core.frame.DataFrame'>\n",
      "RangeIndex: 20 entries, 0 to 19\n",
      "Data columns (total 3 columns):\n",
      " #   Column      Non-Null Count  Dtype \n",
      "---  ------      --------------  ----- \n",
      " 0   City        20 non-null     object\n",
      " 1   Population  20 non-null     object\n",
      " 2   Users       20 non-null     object\n",
      "dtypes: object(3)\n",
      "memory usage: 608.0+ bytes\n",
      "<class 'pandas.core.frame.DataFrame'>\n",
      "RangeIndex: 49171 entries, 0 to 49170\n",
      "Data columns (total 4 columns):\n",
      " #   Column              Non-Null Count  Dtype \n",
      "---  ------              --------------  ----- \n",
      " 0   Customer ID         49171 non-null  int64 \n",
      " 1   Gender              49171 non-null  object\n",
      " 2   Age                 49171 non-null  int64 \n",
      " 3   Income (USD/Month)  49171 non-null  int64 \n",
      "dtypes: int64(3), object(1)\n",
      "memory usage: 1.5+ MB\n",
      "<class 'pandas.core.frame.DataFrame'>\n",
      "RangeIndex: 440098 entries, 0 to 440097\n",
      "Data columns (total 3 columns):\n",
      " #   Column          Non-Null Count   Dtype \n",
      "---  ------          --------------   ----- \n",
      " 0   Transaction ID  440098 non-null  int64 \n",
      " 1   Customer ID     440098 non-null  int64 \n",
      " 2   Payment_Mode    440098 non-null  object\n",
      "dtypes: int64(2), object(1)\n",
      "memory usage: 10.1+ MB\n"
     ]
    }
   ],
   "source": [
    "cabdata.info()\n",
    "city.info()\n",
    "customer.info()\n",
    "transaction.info()"
   ]
  },
  {
   "cell_type": "markdown",
   "id": "9576b6f3",
   "metadata": {},
   "source": [
    "Get the number of total number columns and features"
   ]
  },
  {
   "cell_type": "code",
   "execution_count": 14,
   "id": "b5d85592",
   "metadata": {},
   "outputs": [
    {
     "data": {
      "text/plain": [
       "array([848681,     17])"
      ]
     },
     "execution_count": 14,
     "metadata": {},
     "output_type": "execute_result"
    }
   ],
   "source": [
    "arr = np.array([cabdata.shape,city.shape,customer.shape,transaction.shape])\n",
    "np.add(0, arr.sum(axis=0))"
   ]
  },
  {
   "cell_type": "markdown",
   "id": "cf52f23d",
   "metadata": {},
   "source": [
    "Check for duplicates and nulldata"
   ]
  },
  {
   "cell_type": "code",
   "execution_count": 15,
   "id": "a74c033a",
   "metadata": {},
   "outputs": [
    {
     "data": {
      "text/html": [
       "<div>\n",
       "<style scoped>\n",
       "    .dataframe tbody tr th:only-of-type {\n",
       "        vertical-align: middle;\n",
       "    }\n",
       "\n",
       "    .dataframe tbody tr th {\n",
       "        vertical-align: top;\n",
       "    }\n",
       "\n",
       "    .dataframe thead th {\n",
       "        text-align: right;\n",
       "    }\n",
       "</style>\n",
       "<table border=\"1\" class=\"dataframe\">\n",
       "  <thead>\n",
       "    <tr style=\"text-align: right;\">\n",
       "      <th></th>\n",
       "      <th>Transaction ID</th>\n",
       "      <th>Date of Travel</th>\n",
       "      <th>Company</th>\n",
       "      <th>City</th>\n",
       "      <th>KM Travelled</th>\n",
       "      <th>Price Charged</th>\n",
       "      <th>Cost of Trip</th>\n",
       "    </tr>\n",
       "  </thead>\n",
       "  <tbody>\n",
       "  </tbody>\n",
       "</table>\n",
       "</div>"
      ],
      "text/plain": [
       "Empty DataFrame\n",
       "Columns: [Transaction ID, Date of Travel, Company, City, KM Travelled, Price Charged, Cost of Trip]\n",
       "Index: []"
      ]
     },
     "execution_count": 15,
     "metadata": {},
     "output_type": "execute_result"
    }
   ],
   "source": [
    "ids = cabdata[\"Transaction ID\"]\n",
    "cabdata[ids.isin(ids[ids.duplicated()])].sort_values(\"Transaction ID\")"
   ]
  },
  {
   "cell_type": "code",
   "execution_count": 17,
   "id": "71911596",
   "metadata": {},
   "outputs": [
    {
     "data": {
      "text/plain": [
       "Transaction ID    0\n",
       "Date of Travel    0\n",
       "Company           0\n",
       "City              0\n",
       "KM Travelled      0\n",
       "Price Charged     0\n",
       "Cost of Trip      0\n",
       "dtype: int64"
      ]
     },
     "execution_count": 17,
     "metadata": {},
     "output_type": "execute_result"
    }
   ],
   "source": [
    "cabdata.isna().sum()"
   ]
  },
  {
   "cell_type": "code",
   "execution_count": 23,
   "id": "fd24f90d",
   "metadata": {},
   "outputs": [
    {
     "name": "stdout",
     "output_type": "stream",
     "text": [
      "<class 'pandas.core.frame.DataFrame'>\n",
      "Int64Index: 359392 entries, 0 to 359391\n",
      "Data columns (total 7 columns):\n",
      " #   Column          Non-Null Count   Dtype  \n",
      "---  ------          --------------   -----  \n",
      " 0   Transaction ID  359392 non-null  int64  \n",
      " 1   Date of Travel  359392 non-null  object \n",
      " 2   Company         359392 non-null  object \n",
      " 3   City            359392 non-null  object \n",
      " 4   KM Travelled    359392 non-null  float64\n",
      " 5   Price Charged   359392 non-null  float64\n",
      " 6   Cost of Trip    359392 non-null  float64\n",
      "dtypes: float64(3), int64(1), object(3)\n",
      "memory usage: 21.9+ MB\n"
     ]
    }
   ],
   "source": [
    "cabdata = cabdata.drop_duplicates()\n",
    "cabdata.info()"
   ]
  },
  {
   "cell_type": "markdown",
   "id": "1f0f81a9",
   "metadata": {},
   "source": [
    "cabdata did not have duplicates and a glance (via excel) at the other datasets do not reveal duplicates nor nulldata"
   ]
  },
  {
   "cell_type": "markdown",
   "id": "c7c50b20",
   "metadata": {},
   "source": [
    "Create a profit column of cabdata"
   ]
  },
  {
   "cell_type": "code",
   "execution_count": 32,
   "id": "f5bca4be",
   "metadata": {},
   "outputs": [],
   "source": [
    "cabdata['profit'] = cabdata['Price Charged'] - cabdata['Cost of Trip']"
   ]
  },
  {
   "cell_type": "markdown",
   "id": "536092eb",
   "metadata": {},
   "source": [
    "# Outlier detection"
   ]
  },
  {
   "cell_type": "code",
   "execution_count": 33,
   "id": "a364d370",
   "metadata": {
    "scrolled": true
   },
   "outputs": [
    {
     "data": {
      "image/png": "[encoded data removed]",
      "text/plain": [
       "<Figure size 640x480 with 1 Axes>"
      ]
     },
     "metadata": {},
     "output_type": "display_data"
    },
    {
     "data": {
      "image/png": "[encoded data removed]",
      "text/plain": [
       "<Figure size 640x480 with 1 Axes>"
      ]
     },
     "metadata": {},
     "output_type": "display_data"
    },
    {
     "data": {
      "image/png": "[encoded data removed]",
      "text/plain": [
       "<Figure size 640x480 with 1 Axes>"
      ]
     },
     "metadata": {},
     "output_type": "display_data"
    }
   ],
   "source": [
    "sns.boxplot(x=\"Cost of Trip\",data=cabdata)\n",
    "plt.show()\n",
    "sns.boxplot(x=\"KM Travelled\",data=cabdata)\n",
    "plt.show()\n",
    "sns.boxplot(x=\"profit\",data=cabdata)\n",
    "plt.show()"
   ]
  },
  {
   "cell_type": "code",
   "execution_count": 85,
   "id": "f5d6aff0",
   "metadata": {},
   "outputs": [
    {
     "data": {
      "text/html": [
       "<div>\n",
       "<style scoped>\n",
       "    .dataframe tbody tr th:only-of-type {\n",
       "        vertical-align: middle;\n",
       "    }\n",
       "\n",
       "    .dataframe tbody tr th {\n",
       "        vertical-align: top;\n",
       "    }\n",
       "\n",
       "    .dataframe thead th {\n",
       "        text-align: right;\n",
       "    }\n",
       "</style>\n",
       "<table border=\"1\" class=\"dataframe\">\n",
       "  <thead>\n",
       "    <tr style=\"text-align: right;\">\n",
       "      <th></th>\n",
       "      <th>KM Travelled</th>\n",
       "      <th>Price Charged</th>\n",
       "      <th>Cost of Trip</th>\n",
       "      <th>profit</th>\n",
       "    </tr>\n",
       "  </thead>\n",
       "  <tbody>\n",
       "    <tr>\n",
       "      <th>count</th>\n",
       "      <td>359392.000000</td>\n",
       "      <td>359392.000000</td>\n",
       "      <td>359392.000000</td>\n",
       "      <td>359392.000000</td>\n",
       "    </tr>\n",
       "    <tr>\n",
       "      <th>mean</th>\n",
       "      <td>22.567254</td>\n",
       "      <td>423.443311</td>\n",
       "      <td>286.190113</td>\n",
       "      <td>137.253198</td>\n",
       "    </tr>\n",
       "    <tr>\n",
       "      <th>std</th>\n",
       "      <td>12.233526</td>\n",
       "      <td>274.378911</td>\n",
       "      <td>157.993661</td>\n",
       "      <td>160.311840</td>\n",
       "    </tr>\n",
       "    <tr>\n",
       "      <th>min</th>\n",
       "      <td>1.900000</td>\n",
       "      <td>15.600000</td>\n",
       "      <td>19.000000</td>\n",
       "      <td>-220.060000</td>\n",
       "    </tr>\n",
       "    <tr>\n",
       "      <th>25%</th>\n",
       "      <td>12.000000</td>\n",
       "      <td>206.437500</td>\n",
       "      <td>151.200000</td>\n",
       "      <td>28.012000</td>\n",
       "    </tr>\n",
       "    <tr>\n",
       "      <th>50%</th>\n",
       "      <td>22.440000</td>\n",
       "      <td>386.360000</td>\n",
       "      <td>282.480000</td>\n",
       "      <td>81.962000</td>\n",
       "    </tr>\n",
       "    <tr>\n",
       "      <th>75%</th>\n",
       "      <td>32.960000</td>\n",
       "      <td>583.660000</td>\n",
       "      <td>413.683200</td>\n",
       "      <td>190.030000</td>\n",
       "    </tr>\n",
       "    <tr>\n",
       "      <th>max</th>\n",
       "      <td>48.000000</td>\n",
       "      <td>2048.030000</td>\n",
       "      <td>691.200000</td>\n",
       "      <td>1463.966000</td>\n",
       "    </tr>\n",
       "  </tbody>\n",
       "</table>\n",
       "</div>"
      ],
      "text/plain": [
       "        KM Travelled  Price Charged   Cost of Trip         profit\n",
       "count  359392.000000  359392.000000  359392.000000  359392.000000\n",
       "mean       22.567254     423.443311     286.190113     137.253198\n",
       "std        12.233526     274.378911     157.993661     160.311840\n",
       "min         1.900000      15.600000      19.000000    -220.060000\n",
       "25%        12.000000     206.437500     151.200000      28.012000\n",
       "50%        22.440000     386.360000     282.480000      81.962000\n",
       "75%        32.960000     583.660000     413.683200     190.030000\n",
       "max        48.000000    2048.030000     691.200000    1463.966000"
      ]
     },
     "execution_count": 85,
     "metadata": {},
     "output_type": "execute_result"
    }
   ],
   "source": [
    "cabdata.drop('Transaction ID',axis=1).describe()"
   ]
  },
  {
   "cell_type": "code",
   "execution_count": 86,
   "id": "1180d6c7",
   "metadata": {
    "scrolled": true
   },
   "outputs": [
    {
     "data": {
      "text/html": [
       "<div>\n",
       "<style scoped>\n",
       "    .dataframe tbody tr th:only-of-type {\n",
       "        vertical-align: middle;\n",
       "    }\n",
       "\n",
       "    .dataframe tbody tr th {\n",
       "        vertical-align: top;\n",
       "    }\n",
       "\n",
       "    .dataframe thead th {\n",
       "        text-align: right;\n",
       "    }\n",
       "</style>\n",
       "<table border=\"1\" class=\"dataframe\">\n",
       "  <thead>\n",
       "    <tr style=\"text-align: right;\">\n",
       "      <th></th>\n",
       "      <th>Age</th>\n",
       "      <th>Income (USD/Month)</th>\n",
       "    </tr>\n",
       "  </thead>\n",
       "  <tbody>\n",
       "    <tr>\n",
       "      <th>count</th>\n",
       "      <td>49171.000000</td>\n",
       "      <td>49171.000000</td>\n",
       "    </tr>\n",
       "    <tr>\n",
       "      <th>mean</th>\n",
       "      <td>35.363121</td>\n",
       "      <td>15015.631856</td>\n",
       "    </tr>\n",
       "    <tr>\n",
       "      <th>std</th>\n",
       "      <td>12.599066</td>\n",
       "      <td>8002.208253</td>\n",
       "    </tr>\n",
       "    <tr>\n",
       "      <th>min</th>\n",
       "      <td>18.000000</td>\n",
       "      <td>2000.000000</td>\n",
       "    </tr>\n",
       "    <tr>\n",
       "      <th>25%</th>\n",
       "      <td>25.000000</td>\n",
       "      <td>8289.500000</td>\n",
       "    </tr>\n",
       "    <tr>\n",
       "      <th>50%</th>\n",
       "      <td>33.000000</td>\n",
       "      <td>14656.000000</td>\n",
       "    </tr>\n",
       "    <tr>\n",
       "      <th>75%</th>\n",
       "      <td>42.000000</td>\n",
       "      <td>21035.000000</td>\n",
       "    </tr>\n",
       "    <tr>\n",
       "      <th>max</th>\n",
       "      <td>65.000000</td>\n",
       "      <td>35000.000000</td>\n",
       "    </tr>\n",
       "  </tbody>\n",
       "</table>\n",
       "</div>"
      ],
      "text/plain": [
       "                Age  Income (USD/Month)\n",
       "count  49171.000000        49171.000000\n",
       "mean      35.363121        15015.631856\n",
       "std       12.599066         8002.208253\n",
       "min       18.000000         2000.000000\n",
       "25%       25.000000         8289.500000\n",
       "50%       33.000000        14656.000000\n",
       "75%       42.000000        21035.000000\n",
       "max       65.000000        35000.000000"
      ]
     },
     "execution_count": 86,
     "metadata": {},
     "output_type": "execute_result"
    }
   ],
   "source": [
    "customer.drop('Customer ID',axis=1).describe()"
   ]
  },
  {
   "cell_type": "markdown",
   "id": "3bf9e635",
   "metadata": {},
   "source": [
    "# Analysis"
   ]
  },
  {
   "cell_type": "code",
   "execution_count": 44,
   "id": "ca4a2175",
   "metadata": {},
   "outputs": [
    {
     "data": {
      "text/plain": [
       "Male      26562\n",
       "Female    22609\n",
       "Name: Gender, dtype: int64"
      ]
     },
     "execution_count": 44,
     "metadata": {},
     "output_type": "execute_result"
    }
   ],
   "source": [
    "customer['Gender'].value_counts()"
   ]
  },
  {
   "cell_type": "code",
   "execution_count": 55,
   "id": "c0431477",
   "metadata": {},
   "outputs": [
    {
     "data": {
      "text/html": [
       "<div>\n",
       "<style scoped>\n",
       "    .dataframe tbody tr th:only-of-type {\n",
       "        vertical-align: middle;\n",
       "    }\n",
       "\n",
       "    .dataframe tbody tr th {\n",
       "        vertical-align: top;\n",
       "    }\n",
       "\n",
       "    .dataframe thead th {\n",
       "        text-align: right;\n",
       "    }\n",
       "</style>\n",
       "<table border=\"1\" class=\"dataframe\">\n",
       "  <thead>\n",
       "    <tr style=\"text-align: right;\">\n",
       "      <th></th>\n",
       "      <th>Transaction ID</th>\n",
       "      <th>Date of Travel</th>\n",
       "      <th>City</th>\n",
       "      <th>KM Travelled</th>\n",
       "      <th>Price Charged</th>\n",
       "      <th>Cost of Trip</th>\n",
       "      <th>profit</th>\n",
       "    </tr>\n",
       "    <tr>\n",
       "      <th>Company</th>\n",
       "      <th></th>\n",
       "      <th></th>\n",
       "      <th></th>\n",
       "      <th></th>\n",
       "      <th></th>\n",
       "      <th></th>\n",
       "      <th></th>\n",
       "    </tr>\n",
       "  </thead>\n",
       "  <tbody>\n",
       "    <tr>\n",
       "      <th>Pink Cab</th>\n",
       "      <td>84711</td>\n",
       "      <td>84711</td>\n",
       "      <td>84711</td>\n",
       "      <td>84711</td>\n",
       "      <td>84711</td>\n",
       "      <td>84711</td>\n",
       "      <td>84711</td>\n",
       "    </tr>\n",
       "    <tr>\n",
       "      <th>Yellow Cab</th>\n",
       "      <td>274681</td>\n",
       "      <td>274681</td>\n",
       "      <td>274681</td>\n",
       "      <td>274681</td>\n",
       "      <td>274681</td>\n",
       "      <td>274681</td>\n",
       "      <td>274681</td>\n",
       "    </tr>\n",
       "  </tbody>\n",
       "</table>\n",
       "</div>"
      ],
      "text/plain": [
       "            Transaction ID  Date of Travel    City  KM Travelled  \\\n",
       "Company                                                            \n",
       "Pink Cab             84711           84711   84711         84711   \n",
       "Yellow Cab          274681          274681  274681        274681   \n",
       "\n",
       "            Price Charged  Cost of Trip  profit  \n",
       "Company                                          \n",
       "Pink Cab            84711         84711   84711  \n",
       "Yellow Cab         274681        274681  274681  "
      ]
     },
     "execution_count": 55,
     "metadata": {},
     "output_type": "execute_result"
    }
   ],
   "source": [
    "cabdata.groupby(by='Company').count()"
   ]
  },
  {
   "cell_type": "code",
   "execution_count": 57,
   "id": "16bbed83",
   "metadata": {},
   "outputs": [],
   "source": [
    "tran_cust = transaction.merge(customer, on = 'Customer ID')\n",
    "merge = cabdata.merge(tran_cust, on = 'Transaction ID')"
   ]
  },
  {
   "cell_type": "code",
   "execution_count": 61,
   "id": "47a84d5c",
   "metadata": {
    "scrolled": true
   },
   "outputs": [
    {
     "data": {
      "text/plain": [
       "Company\n",
       "Pink Cab      32330\n",
       "Yellow Cab    39896\n",
       "Name: Customer ID, dtype: int64"
      ]
     },
     "execution_count": 61,
     "metadata": {},
     "output_type": "execute_result"
    }
   ],
   "source": [
    "merge.groupby(by='Company').nunique()['Customer ID']"
   ]
  },
  {
   "cell_type": "code",
   "execution_count": 66,
   "id": "1200d0ab",
   "metadata": {
    "scrolled": true
   },
   "outputs": [
    {
     "data": {
      "text/plain": [
       "Company\n",
       "Pink Cab      5.307328e+06\n",
       "Yellow Cab    4.402037e+07\n",
       "Name: profit, dtype: float64"
      ]
     },
     "execution_count": 66,
     "metadata": {},
     "output_type": "execute_result"
    }
   ],
   "source": [
    "cabdata.groupby('Company').sum()['profit']"
   ]
  },
  {
   "cell_type": "code",
   "execution_count": 70,
   "id": "4a127f44",
   "metadata": {},
   "outputs": [
    {
     "data": {
      "text/plain": [
       "Company\n",
       "Pink Cab       164.161099\n",
       "Yellow Cab    1103.378112\n",
       "dtype: float64"
      ]
     },
     "execution_count": 70,
     "metadata": {},
     "output_type": "execute_result"
    }
   ],
   "source": [
    "cabdata.groupby('Company').sum()['profit']/merge.groupby(by='Company').nunique()['Customer ID']"
   ]
  },
  {
   "cell_type": "markdown",
   "id": "ff0590d0",
   "metadata": {},
   "source": [
    "Profit is higher for Yellow Cab AND the number of unique users is only 7k apart! Thus the ratio of profit per user is much higher for Yellow Cab."
   ]
  },
  {
   "cell_type": "code",
   "execution_count": 74,
   "id": "62614cc2",
   "metadata": {},
   "outputs": [
    {
     "data": {
      "text/html": [
       "<div>\n",
       "<style scoped>\n",
       "    .dataframe tbody tr th:only-of-type {\n",
       "        vertical-align: middle;\n",
       "    }\n",
       "\n",
       "    .dataframe tbody tr th {\n",
       "        vertical-align: top;\n",
       "    }\n",
       "\n",
       "    .dataframe thead th {\n",
       "        text-align: right;\n",
       "    }\n",
       "</style>\n",
       "<table border=\"1\" class=\"dataframe\">\n",
       "  <thead>\n",
       "    <tr style=\"text-align: right;\">\n",
       "      <th></th>\n",
       "      <th>Transaction ID</th>\n",
       "      <th>Date of Travel</th>\n",
       "      <th>City</th>\n",
       "      <th>KM Travelled</th>\n",
       "      <th>Price Charged</th>\n",
       "      <th>Cost of Trip</th>\n",
       "      <th>profit</th>\n",
       "      <th>Customer ID</th>\n",
       "      <th>Payment_Mode</th>\n",
       "      <th>Gender</th>\n",
       "      <th>Age</th>\n",
       "      <th>Income (USD/Month)</th>\n",
       "    </tr>\n",
       "    <tr>\n",
       "      <th>Company</th>\n",
       "      <th></th>\n",
       "      <th></th>\n",
       "      <th></th>\n",
       "      <th></th>\n",
       "      <th></th>\n",
       "      <th></th>\n",
       "      <th></th>\n",
       "      <th></th>\n",
       "      <th></th>\n",
       "      <th></th>\n",
       "      <th></th>\n",
       "      <th></th>\n",
       "    </tr>\n",
       "  </thead>\n",
       "  <tbody>\n",
       "    <tr>\n",
       "      <th>Pink Cab</th>\n",
       "      <td>84711</td>\n",
       "      <td>84711</td>\n",
       "      <td>84711</td>\n",
       "      <td>84711</td>\n",
       "      <td>84711</td>\n",
       "      <td>84711</td>\n",
       "      <td>84711</td>\n",
       "      <td>84711</td>\n",
       "      <td>84711</td>\n",
       "      <td>84711</td>\n",
       "      <td>84711</td>\n",
       "      <td>84711</td>\n",
       "    </tr>\n",
       "    <tr>\n",
       "      <th>Yellow Cab</th>\n",
       "      <td>274681</td>\n",
       "      <td>274681</td>\n",
       "      <td>274681</td>\n",
       "      <td>274681</td>\n",
       "      <td>274681</td>\n",
       "      <td>274681</td>\n",
       "      <td>274681</td>\n",
       "      <td>274681</td>\n",
       "      <td>274681</td>\n",
       "      <td>274681</td>\n",
       "      <td>274681</td>\n",
       "      <td>274681</td>\n",
       "    </tr>\n",
       "  </tbody>\n",
       "</table>\n",
       "</div>"
      ],
      "text/plain": [
       "            Transaction ID  Date of Travel    City  KM Travelled  \\\n",
       "Company                                                            \n",
       "Pink Cab             84711           84711   84711         84711   \n",
       "Yellow Cab          274681          274681  274681        274681   \n",
       "\n",
       "            Price Charged  Cost of Trip  profit  Customer ID  Payment_Mode  \\\n",
       "Company                                                                      \n",
       "Pink Cab            84711         84711   84711        84711         84711   \n",
       "Yellow Cab         274681        274681  274681       274681        274681   \n",
       "\n",
       "            Gender     Age  Income (USD/Month)  \n",
       "Company                                         \n",
       "Pink Cab     84711   84711               84711  \n",
       "Yellow Cab  274681  274681              274681  "
      ]
     },
     "execution_count": 74,
     "metadata": {},
     "output_type": "execute_result"
    }
   ],
   "source": [
    "merge.groupby(by='Company').count()"
   ]
  },
  {
   "cell_type": "code",
   "execution_count": 77,
   "id": "58f96f63",
   "metadata": {
    "scrolled": true
   },
   "outputs": [
    {
     "data": {
      "text/plain": [
       "Gender\n",
       "Female    15057.968954\n",
       "Male      15042.005799\n",
       "Name: Income (USD/Month), dtype: float64"
      ]
     },
     "execution_count": 77,
     "metadata": {},
     "output_type": "execute_result"
    }
   ],
   "source": [
    "merge.groupby('Gender').mean()['Income (USD/Month)']"
   ]
  },
  {
   "cell_type": "code",
   "execution_count": 80,
   "id": "9910ffd6",
   "metadata": {
    "scrolled": true
   },
   "outputs": [
    {
     "data": {
      "text/plain": [
       "Gender\n",
       "Female    21473\n",
       "Male      24675\n",
       "Name: Customer ID, dtype: int64"
      ]
     },
     "execution_count": 80,
     "metadata": {},
     "output_type": "execute_result"
    }
   ],
   "source": [
    "merge.groupby('Gender').nunique()['Customer ID']"
   ]
  },
  {
   "cell_type": "code",
   "execution_count": 81,
   "id": "966a006b",
   "metadata": {
    "scrolled": true
   },
   "outputs": [
    {
     "data": {
      "text/plain": [
       "Gender\n",
       "Female    2.046195e+07\n",
       "Male      2.886575e+07\n",
       "Name: profit, dtype: float64"
      ]
     },
     "execution_count": 81,
     "metadata": {},
     "output_type": "execute_result"
    }
   ],
   "source": [
    "merge.groupby('Gender').sum()['profit']"
   ]
  },
  {
   "cell_type": "markdown",
   "id": "54b90be5",
   "metadata": {},
   "source": [
    "While there are more male customers than female customers, making profits larger from males, the average income recorded shows similar income disparity between the genders."
   ]
  },
  {
   "cell_type": "code",
   "execution_count": 92,
   "id": "8f0d9d9c",
   "metadata": {
    "scrolled": false
   },
   "outputs": [
    {
     "data": {
      "image/png": "[encoded data removed]",
      "text/plain": [
       "<Figure size 640x480 with 1 Axes>"
      ]
     },
     "metadata": {},
     "output_type": "display_data"
    }
   ],
   "source": [
    "plt.scatter(cabdata['KM Travelled'],cabdata['profit'])\n",
    "plt.xlabel('KM Travelled')\n",
    "plt.ylabel('Profit')\n",
    "plt.show()"
   ]
  },
  {
   "cell_type": "code",
   "execution_count": 109,
   "id": "3346d7af",
   "metadata": {},
   "outputs": [
    {
     "data": {
      "image/png": "[encoded data removed]",
      "text/plain": [
       "<Figure size 640x480 with 1 Axes>"
      ]
     },
     "metadata": {},
     "output_type": "display_data"
    }
   ],
   "source": [
    "X = cabdata['KM Travelled'].values.reshape(-1, 1)\n",
    "y = cabdata['profit'].values.reshape(-1, 1)\n",
    "\n",
    "reg = LinearRegression()\n",
    "reg.fit(X,y)\n",
    "\n",
    "plt.scatter(X, y, alpha=.1)\n",
    "plt.plot(X, reg.predict(X),color='red')\n",
    "plt.axhline(y = 0, color = 'black', linestyle = '-')\n",
    "plt.xlabel('KM Travelled')\n",
    "plt.ylabel('Profit')\n",
    "plt.show()"
   ]
  },
  {
   "cell_type": "markdown",
   "id": "95f8d065",
   "metadata": {},
   "source": [
    "Hypothesis and Conclusions:\n",
    "\n",
    "1. Profit is proportional to number of users.\n",
    "True, but Yellow Cab has noticeably more profit per user than Pink cab.\n",
    "\n",
    "2. The value of Pink Cab may come from having users in underserved cities.\n",
    "False, See my Tableau worksheet https://public.tableau.com/views/DataGlacierInternshipWeek2/Sheet5?:language=en-US&:display_count=n&:origin=viz_share_link. Distribution of users is similar across all cities for both companies.\n",
    "\n",
    "3. Holidays explain peaks and dips in profit.\n",
    "False, See my Tableau worksheet https://public.tableau.com/views/DataGlacierInternshipWeek2/Sheet7?:language=en-US&:display_count=n&:origin=viz_share_link. Holidays only make up a small portion of profit.\n",
    "\n",
    "4. Male and female customers have similar incomes.\n",
    "True based on the XYZ's customers in these cities. However, there is a gender wage gape in the US among the general population. \n",
    "\n",
    "5. Profit increases with distance traveled.\n",
    "True. As obvious as this is, there are also many outliers in profit with greater distance. Additionally, losses in profit also increase with distance but not as much as the gain.\n"
   ]
  },
  {
   "cell_type": "markdown",
   "id": "541ed411",
   "metadata": {},
   "source": [
    "Recommendations:\n",
    "\n",
    "1. Time of day should be included in the data. Additionally, other data like change in user base and change in population over time should be included.\n",
    "2. Miles are more appropriate for American companies.\n",
    "3. Yellow cab should receive investment based on total profit and profit per user."
   ]
  }
 ],
 "metadata": {
  "kernelspec": {
   "display_name": "Python 3 (ipykernel)",
   "language": "python",
   "name": "python3"
  },
  "language_info": {
   "codemirror_mode": {
    "name": "ipython",
    "version": 3
   },
   "file_extension": ".py",
   "mimetype": "text/x-python",
   "name": "python",
   "nbconvert_exporter": "python",
   "pygments_lexer": "ipython3",
   "version": "3.9.13"
  }
 },
 "nbformat": 4,
 "nbformat_minor": 5
}
